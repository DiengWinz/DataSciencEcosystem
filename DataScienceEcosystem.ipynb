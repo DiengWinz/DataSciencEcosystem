{
  "metadata": {
    "language_info": {
      "codemirror_mode": {
        "name": "python",
        "version": 3
      },
      "file_extension": ".py",
      "mimetype": "text/x-python",
      "name": "python",
      "nbconvert_exporter": "python",
      "pygments_lexer": "ipython3",
      "version": "3.8"
    },
    "kernelspec": {
      "name": "python",
      "display_name": "Python (Pyodide)",
      "language": "python"
    }
  },
  "nbformat_minor": 4,
  "nbformat": 4,
  "cells": [
    {
      "cell_type": "markdown",
      "source": "# Data Science Tools and Ecosystem\n",
      "metadata": {}
    },
    {
      "cell_type": "markdown",
      "source": "## In this notebook, Data Science Tools and Ecosystem are summarized.",
      "metadata": {}
    },
    {
      "cell_type": "markdown",
      "source": "### list data science languages\n1. Python\n2. R\n3. SQL\n4. Javascript\n5. Scala\n6. C++\n7. Java\n8. Julia\n9. GO",
      "metadata": {}
    },
    {
      "cell_type": "markdown",
      "source": "###  list data science libraries\nfor Python:\n1. Pandas\n2. Numpy\n3. Matplotlib\n4. Seaborn\n5. Sckit-Learn\n6. TensorFlow\n7. Pytorch\n8. Keras\n9. Scipy\n\nfor R: \n1. ggplot\n2. dplyr\n3. tidyr\n4. Caret\n5. randomForest\n6. Shiny\n7. ROCR\n8. lubridate\n9. xgboost",
      "metadata": {}
    },
    {
      "cell_type": "markdown",
      "source": "### Table of Data Science tools",
      "metadata": {}
    },
    {
      "cell_type": "markdown",
      "source": "| Term                     | Definition                                                                                       |\n|--------------------------|---------------------------------------------------------------------------------------------------|\n| Apache MLlib             | Language that makes machine learning scalable                                                    |\n| Apache Spark             | A general-purpose cluster-computing framework allowing you to process data using compute clusters |\n| API                      | Application programming interface allows communication between two pieces of software            |\n| Caffe                    | A deep learning algorithm repository built with C++ with Python and Matlab bindings              |\n| CDLA                     | Community Data License Agreement                                                                 |\n| Classification models    | Are used to predict whether some information or data belongs to a category (or “class”)           |\n| CLI                      | Command line interface                                                                           |\n| C++                      | A general-purpose programming language. It is an extension of the C programming language or C with Classes |\n| Data set                 | A structured collection of data                                                                  |\n| Deeplearning4            | Language for deep learning                                                                       |\n| Deep learning            | A specialized type of machine learning. It refers to a general set of models and techniques that loosely emulate the way the human brain solves a wide range of problems |\n| ELT                      | Extract, Load, Transform                                                                         |\n| ETL                      | Extract, Transform, and Load                                                                     |\n| FSF                      | Free Software Foundation                                                                        |\n| ggplot2                  | A popular library for data visualization in R                                                    |\n| GPU                      | Graphics processing units                                                                       |\n| Git                      | De facto standard for code asset management, also known as version management or version control. Around Git emerged several services, GitHub, and GitLab |\n| Hadoop                   | Application of Java which manages data processing and storage for big data applications running in clustered systems |\n| Java                     | Object-oriented programming language                                                             |\n| Java-ML                  | Language for machine learning                                                                    |\n| JVM                      | Java Virtual Machine                                                                             |\n| JavaScript               | A general-purpose language that extended beyond the browser with the creation of Node.js and other server-side approaches |\n| Julia                    | A language for high-performance numerical analysis and computational science                       |\n| Jupyter Notebook         | A browser-based application that allows you to create and share documents containing code, equations, visualizations, narrative text links, and more |\n| Jupyter Lab              | A browser-based application that allows you to access multiple Jupyter Notebook files, other code, and data files |\n| Kernel                   | An execution environment for the different programming languages                                    |\n| Lattice                  | It is a high-level data visualization library that can handle graphics without customizations       |\n| Library                  | A collection of functions and methods that allow you to perform many actions without writing the code |\n| Leaflet                  | Used for creating interactive plots                                                              |\n| ML                       | Machine learning uses algorithms – also known as “models” - to identify patterns in the data       |\n| Matplotlib               | A package for data visualization                                                                 |\n| Model training           | The process by which the model learns patterns from data                                          |\n| MNIST                    | Modified National Institute of Standards and Technology                                           |\n| MongoDB                  | A NoSQL database for big data management that was built with C++                                   |\n| NLP                      | Natural Language Processing                                                                      |\n| NLTK                     | Natural Language Toolkit                                                                        |\n| NumPy                    | Libraries are based on arrays and matrices, allowing you to apply mathematical functions to the arrays |\n| OSI                      | Open-Source Initiative                                                                           |\n| PaaS                     | Platform as a service                                                                           |\n| Pandas                   | A library that offers data structures and tools for effective data cleaning, manipulation, and analysis |\n| Plotly                   | Used for web-based data visualizations that can be displayed or saved as individual HTML files     |\n| PMML                     | Predictive Model Markup Language                                                                |\n| Python                   | A high-level, general-purpose programming language. It has a large, standard library that provides tools suited to many different tasks, including Databases, Automation, Web scraping, Text processing, Image processing, Machine learning, and Data analytics |\n| R                        | A statistical computing language                                                                  |\n| Regression models        | Are used to predict a numeric (or “real”) value                                                  |\n| Reinforcement Learning   | Loosely based on the way human beings and other organisms learn                                  |\n| REST                     | RE stands for Representational; the S stands for State, and the T stands for Transfer             |\n| RStudio                  | Unifies programming, execution, debugging, remote data access, data exploration, and visualization into one tool |\n| SaaS                     | Software as a service                                                                           |\n| Scala                    | Is a combination of scalable and language. A general-purpose programming language that provides support for functional programming and is a strong static type system |\n| Spyder                   | Integrates code, documentation, and visualizations, among others, into a single canvas           |\n| SQL                      | Structured Query Language that is non-procedural, used for querying and managing data              |\n| Supervised Learning      | A learning in which a human provides input data and correct outputs                                |\n| TensorFlow               | Deep Learning library for dataflow that was built with C++                                        |\n| Unsupervised Learning    | The data is not labeled by a human. Examples are Clustering models used to divide each record of a dataset into one of a similar group |\n| Watson Studio            | A fully integrated development environment for data scientists                                    |\n| Weka                     | Language for data mining                                                                       |\n",
      "metadata": {}
    },
    {
      "cell_type": "markdown",
      "source": "#### arithmetic expression examples\n",
      "metadata": {}
    },
    {
      "cell_type": "code",
      "source": "12 + (2*6) - 100",
      "metadata": {
        "trusted": true
      },
      "execution_count": 2,
      "outputs": [
        {
          "execution_count": 2,
          "output_type": "execute_result",
          "data": {
            "text/plain": "-76"
          },
          "metadata": {}
        }
      ]
    },
    {
      "cell_type": "code",
      "source": "a = 12\nb = 3\nprint(a + b)\nprint(a * b)",
      "metadata": {
        "trusted": true
      },
      "execution_count": 4,
      "outputs": [
        {
          "name": "stdout",
          "text": "15\n36\n",
          "output_type": "stream"
        }
      ]
    },
    {
      "cell_type": "code",
      "source": "def minute_hour(a):\n    return round((a/60),2)",
      "metadata": {
        "trusted": true
      },
      "execution_count": 7,
      "outputs": []
    },
    {
      "cell_type": "code",
      "source": "minute_hour(200)    # Call the function 'minute_hour'",
      "metadata": {
        "trusted": true
      },
      "execution_count": 8,
      "outputs": [
        {
          "execution_count": 8,
          "output_type": "execute_result",
          "data": {
            "text/plain": "3.33"
          },
          "metadata": {}
        }
      ]
    },
    {
      "cell_type": "markdown",
      "source": "###  List Objectives\n1. Data sciences languages \n2. Data science librairies\n3. Machine Learning Model\n4. DAX\n5. Git and GitHub\n6. Cloud for Data Science \n7. Catégories of Data Science Tools\n8. Commercial data science tools\n9. API\n10. SQL\n",
      "metadata": {}
    },
    {
      "cell_type": "markdown",
      "source": "### Author\nThierno Bocar DIENG",
      "metadata": {}
    },
    {
      "cell_type": "code",
      "source": "",
      "metadata": {},
      "execution_count": null,
      "outputs": []
    }
  ]
}